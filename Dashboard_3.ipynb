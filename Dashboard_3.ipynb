{
 "cells": [
  {
   "cell_type": "code",
   "execution_count": 1,
   "metadata": {},
   "outputs": [],
   "source": [
    "from bqplot import pyplot as plt\n",
    "import ipywidgets as ipw\n",
    "import numpy as np"
   ]
  },
  {
   "cell_type": "code",
   "execution_count": 2,
   "metadata": {},
   "outputs": [],
   "source": [
    "n=2000\n",
    "x=np.linspace(0.0,10,n)\n",
    "np.random.seed(0)\n",
    "y=np.cumsum(np.random.randn(n)*10).astype(int)"
   ]
  },
  {
   "cell_type": "code",
   "execution_count": 3,
   "metadata": {},
   "outputs": [
    {
     "data": {
      "application/vnd.jupyter.widget-view+json": {
       "model_id": "7e4e49c6bf9240038bdc6b3d1b76fdb2",
       "version_major": 2,
       "version_minor": 0
      },
      "text/plain": [
       "Figure(axes=[Axis(orientation='vertical', scale=LinearScale()), Axis(scale=LinearScale())], fig_margin={'top':…"
      ]
     },
     "metadata": {},
     "output_type": "display_data"
    }
   ],
   "source": [
    "fig_hist=plt.figure(title='Histogram')\n",
    "hist=plt.hist(y,bins=25)\n",
    "fig_hist"
   ]
  },
  {
   "cell_type": "code",
   "execution_count": 4,
   "metadata": {},
   "outputs": [
    {
     "data": {
      "application/vnd.jupyter.widget-view+json": {
       "model_id": "a2d8488e34e14bd1aacae2c8709f9ef1",
       "version_major": 2,
       "version_minor": 0
      },
      "text/plain": [
       "Slider(class_='px-4', thumb_label='always', v_model=30)"
      ]
     },
     "metadata": {},
     "output_type": "display_data"
    }
   ],
   "source": [
    "import ipyvuetify as v\n",
    "slider = v.Slider(thumb_label='always', class_='px-4',v_model=30)\n",
    "ipw.link((slider,'v_model'),(hist,'bins'))\n",
    "slider"
   ]
  },
  {
   "cell_type": "code",
   "execution_count": 5,
   "metadata": {},
   "outputs": [
    {
     "data": {
      "application/vnd.jupyter.widget-view+json": {
       "model_id": "6782aab682dc4dd782e6217e592587a4",
       "version_major": 2,
       "version_minor": 0
      },
      "text/plain": [
       "Figure(axes=[Axis(scale=LinearScale()), Axis(orientation='vertical', scale=LinearScale())], fig_margin={'top':…"
      ]
     },
     "metadata": {},
     "output_type": "display_data"
    }
   ],
   "source": [
    "fig_lines=plt.figure(title='Line Chart')\n",
    "lines = plt.plot(x,y)\n",
    "fig_lines"
   ]
  },
  {
   "cell_type": "code",
   "execution_count": 6,
   "metadata": {},
   "outputs": [],
   "source": [
    "selector = plt.brush_int_selector()\n",
    "def update_range(*ignore):\n",
    "    if selector.selected is not None and len(selector.selected) == 2:\n",
    "        xmin,xmax = selector.selected\n",
    "        mask = (x > xmin) & (x < xmax)\n",
    "        hist.sample = y[mask]\n",
    "selector.observe(update_range,'selected')"
   ]
  },
  {
   "cell_type": "code",
   "execution_count": 9,
   "metadata": {},
   "outputs": [
    {
     "data": {
      "application/vnd.jupyter.widget-view+json": {
       "model_id": "66751dcdcd904969a726ff01bb687f72",
       "version_major": 2,
       "version_minor": 0
      },
      "text/plain": [
       "Select(items=['dashed', 'solid', 'dotted'], label='line style', v_model='dashed')"
      ]
     },
     "metadata": {},
     "output_type": "display_data"
    }
   ],
   "source": [
    "line_styles=['dashed','solid','dotted']\n",
    "widget_line_styles = v.Select(items=line_styles, label='line style', v_model=line_styles[0])\n",
    "widget_line_styles"
   ]
  },
  {
   "cell_type": "code",
   "execution_count": 11,
   "metadata": {},
   "outputs": [
    {
     "data": {
      "text/plain": [
       "<traitlets.traitlets.link at 0x1e112471610>"
      ]
     },
     "execution_count": 11,
     "metadata": {},
     "output_type": "execute_result"
    }
   ],
   "source": [
    "ipw.link((widget_line_styles,'v_model'),(lines,'line_style'))"
   ]
  },
  {
   "cell_type": "code",
   "execution_count": 15,
   "metadata": {},
   "outputs": [],
   "source": [
    "v.Layout(pa_4=True, _metadata={'mount_id':'content-nav'},column=True, children=[slider,widget_line_styles]);\n",
    "#; Semi-colon means create, but not show"
   ]
  },
  {
   "cell_type": "code",
   "execution_count": 20,
   "metadata": {},
   "outputs": [],
   "source": [
    "fig_hist.layout.width = 'auto'\n",
    "fig_hist.layout.height = 'auto'\n",
    "fig_hist.layout.min_height = '300px'\n",
    "\n",
    "fig_lines.layout.width = 'auto'\n",
    "fig_lines.layout.height = 'auto'\n",
    "fig_lines.layout.min_height = '300px'\n",
    "\n",
    "content_main = v.Layout(\n",
    "                    _metadata={'mount_id':'content-main'},\n",
    "                    row=True, wrap=True, align_center=True, children=[\n",
    "                    v.Flex(xs12=True, lg6=True, children=[\n",
    "                        fig_hist\n",
    "                    ]),\n",
    "                    v.Flex(xs12=True, lg6=True, children=[\n",
    "                        fig_lines\n",
    "                    ]),\n",
    "                    ])\n",
    "# No need to display content_main for the voila-vuetify template\n",
    "# But might be useful for debugging\n",
    "# content_main\n",
    "# voila --template vuetify-default --enable_nbextensions=True dashboard_3.ipynb"
   ]
  },
  {
   "cell_type": "code",
   "execution_count": null,
   "metadata": {},
   "outputs": [],
   "source": []
  }
 ],
 "metadata": {
  "kernelspec": {
   "display_name": "Python 3",
   "language": "python",
   "name": "python3"
  },
  "language_info": {
   "codemirror_mode": {
    "name": "ipython",
    "version": 3
   },
   "file_extension": ".py",
   "mimetype": "text/x-python",
   "name": "python",
   "nbconvert_exporter": "python",
   "pygments_lexer": "ipython3",
   "version": "3.8.3"
  }
 },
 "nbformat": 4,
 "nbformat_minor": 4
}
